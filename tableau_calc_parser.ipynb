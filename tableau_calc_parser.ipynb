{
  "cells": [
    {
      "cell_type": "markdown",
      "source": [
        "**Tableau Calculated Fields Parser**\n",
        "\n",
        "Extract calculated field names and formulas from Tableau .twb or .twbx files for documentation, auditing, or analysis."
      ],
      "metadata": {
        "id": "Y0njFVaKHNg3"
      }
    },
    {
      "cell_type": "code",
      "source": [
        "# Upload file if in Google Colab, or set path manually if running locally\n",
        "try:\n",
        "    from google.colab import files\n",
        "    uploaded = files.upload()\n",
        "    twb_file = list(uploaded.keys())[0]\n",
        "except ImportError:\n",
        "    # Not in Colab, use local file path\n",
        "    twb_file = \"sample/example.twb\"  # local file path must be added here"
      ],
      "metadata": {
        "id": "gvicZnrOHbY7"
      },
      "execution_count": null,
      "outputs": []
    },
    {
      "cell_type": "code",
      "source": [
        "import xml.etree.ElementTree as ET\n",
        "import pandas as pd\n",
        "import re"
      ],
      "metadata": {
        "id": "Uh67d3dQWvRO"
      },
      "execution_count": null,
      "outputs": []
    },
    {
      "cell_type": "code",
      "source": [
        "def extract_xml(twb_file):\n",
        "    try:\n",
        "        ns = {'t': 'http://tableausoftware.com/xml/user'}\n",
        "        tree = ET.parse(twb_file)\n",
        "        root = tree.getroot()\n",
        "\n",
        "        fields = []\n",
        "        for col in root.findall('.//t:column', ns):\n",
        "            caption = col.attrib.get('caption') or col.attrib.get('name')\n",
        "            calc = col.find('t:calculation', ns)\n",
        "            if calc is not None:\n",
        "                formula = calc.attrib.get('formula')\n",
        "                fields.append((caption, formula))\n",
        "\n",
        "        return fields\n",
        "    except Exception as e:\n",
        "        print(\"XML parse error:\", e)\n",
        "        return []"
      ],
      "metadata": {
        "id": "sedrhIqJXrwG"
      },
      "execution_count": null,
      "outputs": []
    },
    {
      "cell_type": "code",
      "source": [
        "fields = extract_xml(twb_file)"
      ],
      "metadata": {
        "id": "3pIbNrJlX74M"
      },
      "execution_count": null,
      "outputs": []
    },
    {
      "cell_type": "code",
      "source": [
        "if not fields:\n",
        "    print(\"No calculated fields found via XML. Trying Document API...\")\n",
        "\n",
        "    !pip install -q git+https://github.com/tableau/document-api-python.git\n",
        "\n",
        "    from tableaudocumentapi import Workbook\n",
        "\n",
        "    wb = Workbook(twb_file)\n",
        "    for ds in wb.datasources:\n",
        "        for field in ds.fields.values():\n",
        "            calc = getattr(field, 'calculation', None)\n",
        "            if calc:\n",
        "                fields.append((field.name, calc))\n",
        "df = pd.DataFrame(fields, columns=[\"Field Name\", \"Formula\"])\n",
        "df.head()"
      ],
      "metadata": {
        "id": "Cn68YCUQYEVg"
      },
      "execution_count": null,
      "outputs": []
    }
  ],
  "metadata": {
    "colab": {
      "provenance": []
    },
    "language_info": {
      "name": "python"
    },
    "kernelspec": {
      "name": "python3",
      "display_name": "Python 3"
    }
  },
  "nbformat": 4,
  "nbformat_minor": 0
}