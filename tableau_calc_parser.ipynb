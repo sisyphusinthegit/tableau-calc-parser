{
  "cells": [
    {
      "cell_type": "markdown",
      "source": [
        "**Tableau Calculated Fields Parser**\n",
        "\n",
        "Extract calculated field names and formulas from Tableau .twb or .twbx files for documentation, auditing, or analysis."
      ],
      "metadata": {
        "id": "Y0njFVaKHNg3"
      }
    },
    {
      "cell_type": "code",
      "source": [],
      "metadata": {
        "id": "gvicZnrOHbY7"
      },
      "execution_count": null,
      "outputs": []
    }
  ],
  "metadata": {
    "colab": {
      "provenance": []
    }
  },
  "nbformat": 4,
  "nbformat_minor": 0
}